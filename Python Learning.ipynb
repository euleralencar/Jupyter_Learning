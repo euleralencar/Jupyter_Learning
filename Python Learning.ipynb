{
 "cells": [
  {
   "cell_type": "markdown",
   "metadata": {},
   "source": [
    "# Learning Python and Jupyter\n",
    "\n",
    "Fonte: https://jakevdp.github.io/PythonDataScienceHandbook/02.04-computation-on-arrays-aggregates.html"
   ]
  },
  {
   "cell_type": "code",
   "execution_count": 16,
   "metadata": {},
   "outputs": [],
   "source": [
    "import numpy as np"
   ]
  },
  {
   "cell_type": "code",
   "execution_count": 2,
   "metadata": {},
   "outputs": [
    {
     "data": {
      "text/plain": [
       "47.79632804537561"
      ]
     },
     "execution_count": 2,
     "metadata": {},
     "output_type": "execute_result"
    }
   ],
   "source": [
    "L = np.random.random(100)\n",
    "sum(L)"
   ]
  },
  {
   "cell_type": "code",
   "execution_count": 3,
   "metadata": {},
   "outputs": [
    {
     "data": {
      "text/plain": [
       "47.7963280453756"
      ]
     },
     "execution_count": 3,
     "metadata": {},
     "output_type": "execute_result"
    }
   ],
   "source": [
    "# Duas formas de se fazer a mesma coisa.\n",
    "np.sum(L)"
   ]
  },
  {
   "cell_type": "code",
   "execution_count": 4,
   "metadata": {},
   "outputs": [
    {
     "name": "stdout",
     "output_type": "stream",
     "text": [
      "235 ms ± 8.96 ms per loop (mean ± std. dev. of 7 runs, 1 loop each)\n",
      "1.56 ms ± 31.2 µs per loop (mean ± std. dev. of 7 runs, 1000 loops each)\n"
     ]
    }
   ],
   "source": [
    "big_array = np.random.rand(1000000)\n",
    "%timeit sum(big_array)\n",
    "%timeit np.sum(big_array)"
   ]
  },
  {
   "cell_type": "code",
   "execution_count": 5,
   "metadata": {},
   "outputs": [
    {
     "data": {
      "text/plain": [
       "array([0.04699047, 0.0580214 , 0.4015518 , ..., 0.74786581, 0.16448738,\n",
       "       0.91652409])"
      ]
     },
     "execution_count": 5,
     "metadata": {},
     "output_type": "execute_result"
    }
   ],
   "source": [
    "big_array"
   ]
  },
  {
   "cell_type": "code",
   "execution_count": 9,
   "metadata": {},
   "outputs": [
    {
     "data": {
      "text/plain": [
       "(1000000,)"
      ]
     },
     "execution_count": 9,
     "metadata": {},
     "output_type": "execute_result"
    }
   ],
   "source": [
    "#tamanho do array\n",
    "big_array.shape"
   ]
  },
  {
   "cell_type": "markdown",
   "metadata": {},
   "source": [
    "There are a couple of useful keyboard shortcuts in `Command Mode` that you can leverage to make Jupyter Notebook faster to use. Remember that to switch back and forth between `Command Mode` and `Edit Mode` with <kbd>Esc</kbd> and <kbd>Enter</kbd>.\n",
    "\n",
    "<kbd>m</kbd>: Convert cell to Markdown\n",
    "\n",
    "<kbd>y</kbd>: Convert cell to Code\n",
    "\n",
    "<kbd>D</kbd>+<kbd>D</kbd>: Delete cell\n",
    "\n",
    "<kbd>o</kbd>: Toggle between hide or show output\n",
    "\n",
    "<kbd>Shift</kbd>+<kbd>Arrow up/Arrow down</kbd>: Selects multiple cells. Once you have selected them you can operate on them like a batch (run, copy, paste etc).\n",
    "\n",
    "<kbd>Shift</kbd>+<kbd>M</kbd>: Merge selected cells.\n",
    "\n",
    "<kbd>Shift</kbd>+<kbd>Tab</kbd>: [press once] Tells you which parameters to pass on a function\n",
    "<kbd>Shift</kbd>+<kbd>Tab</kbd>: [press three times] Gives additional information on the method\n",
    "\n",
    "**Outras dicas:** https://www.dataquest.io/blog/jupyter-notebook-tips-tricks-shortcuts/"
   ]
  },
  {
   "cell_type": "markdown",
   "metadata": {},
   "source": [
    "#### Line Magics\n",
    "\n",
    "Line magics are functions that you can run on cells and take as an argument the rest of the line from where they are called. You call them by placing a '%' sign before the command. The most useful ones are:\n",
    "\n",
    "`%matplotlib inline`: This command ensures that all matplotlib plots will be plotted in the output cell within the notebook and will be kept in the notebook when saved.\n",
    "\n",
    "`%reload_ext autoreload`, `%autoreload 2`: Reload all modules before executing a new line. If a module is edited, it is not necessary to rerun the import commands, the modules will be reloaded automatically.\n",
    "\n",
    "These three commands are always called together at the beginning of every notebook.\n",
    "\n",
    "%matplotlib inline\n",
    "%reload_ext autoreload\n",
    "%autoreload 2\n",
    "\n",
    "`%timeit`: Runs a line a ten thousand times and displays the average time it took to run it.\n",
    "\n",
    "%timeit [i+1 for i in range(1000)]\n",
    "\n",
    "`%debug`: Allows to inspect a function which is showing an error using the [Python debugger](https://docs.python.org/3/library/pdb.html).\n",
    "\n",
    "for i in range(1000):\n",
    "    a = i+1\n",
    "    b = 'string'\n",
    "    c = b+1\n",
    "\n",
    "%debug"
   ]
  },
  {
   "cell_type": "markdown",
   "metadata": {},
   "source": [
    "### Utilizando função Min e Max"
   ]
  },
  {
   "cell_type": "code",
   "execution_count": 11,
   "metadata": {},
   "outputs": [
    {
     "data": {
      "text/plain": [
       "(1.1291237803634502e-06, 0.9999991836104809)"
      ]
     },
     "execution_count": 11,
     "metadata": {},
     "output_type": "execute_result"
    }
   ],
   "source": [
    "min(big_array), max(big_array)"
   ]
  },
  {
   "cell_type": "code",
   "execution_count": 13,
   "metadata": {},
   "outputs": [
    {
     "data": {
      "text/plain": [
       "(1.1291237803634502e-06, 0.9999991836104809)"
      ]
     },
     "execution_count": 13,
     "metadata": {},
     "output_type": "execute_result"
    }
   ],
   "source": [
    "#with numpy\n",
    "np.min(big_array), np.max(big_array)"
   ]
  },
  {
   "cell_type": "code",
   "execution_count": 14,
   "metadata": {},
   "outputs": [
    {
     "name": "stdout",
     "output_type": "stream",
     "text": [
      "173 ms ± 19.1 ms per loop (mean ± std. dev. of 7 runs, 10 loops each)\n",
      "1.77 ms ± 290 µs per loop (mean ± std. dev. of 7 runs, 100 loops each)\n"
     ]
    }
   ],
   "source": [
    "%timeit min(big_array)\n",
    "%timeit np.min(big_array)"
   ]
  },
  {
   "cell_type": "markdown",
   "metadata": {},
   "source": [
    "| Function Name | NaN Function Name | Description                               |\n",
    "|---------------|-------------------|-------------------------------------------|\n",
    "| np.sum        | np.nansum         | Compute sum of elements                   |\n",
    "| np.prod       | np.nanprod        | Compute product of elements               |\n",
    "| np.mean       | np.nanmean        | Compute mean of elements                  |\n",
    "| np.std        | np.nanstd         | Compute standard deviation                |\n",
    "| np.var        | np.nanvar         | Compute variance                          |\n",
    "| np.min        | np.nanmin         | Find minimum value                        |\n",
    "| np.max        | np.nanmax         | Find maximum value                        |\n",
    "| np.argmin     | np.nanargmin      | Find index of minimum value               |\n",
    "| np.argmax     | np.nanargmax      | Find index of maximum value               |\n",
    "| np.median     | np.nanmedian      | Compute median of elements                |\n",
    "| np.percentile | np.nanpercentile  | Compute rank-based statistics of elements |\n",
    "| np.any        | N/A               | Evaluate whether any elements are true    |\n",
    "| np.all        | N/A               | Evaluate whether all elements are true    |"
   ]
  },
  {
   "cell_type": "code",
   "execution_count": 15,
   "metadata": {},
   "outputs": [
    {
     "name": "stdout",
     "output_type": "stream",
     "text": [
      "head: data/president_heights.csv: No such file or directory\r\n"
     ]
    }
   ],
   "source": [
    "!head -4 data/president_heights.csv"
   ]
  },
  {
   "cell_type": "code",
   "execution_count": null,
   "metadata": {},
   "outputs": [],
   "source": []
  },
  {
   "cell_type": "code",
   "execution_count": null,
   "metadata": {},
   "outputs": [],
   "source": []
  },
  {
   "cell_type": "markdown",
   "metadata": {},
   "source": [
    "Fontes: Livros\n",
    "    \n",
    "- https://www.santodigital.com.br/5-livros-sobre-machine-learning-que-todo-profissional-de-ti-deve-ler/"
   ]
  },
  {
   "cell_type": "code",
   "execution_count": null,
   "metadata": {},
   "outputs": [],
   "source": []
  }
 ],
 "metadata": {
  "kernelspec": {
   "display_name": "Python 3",
   "language": "python",
   "name": "python3"
  },
  "language_info": {
   "codemirror_mode": {
    "name": "ipython",
    "version": 3
   },
   "file_extension": ".py",
   "mimetype": "text/x-python",
   "name": "python",
   "nbconvert_exporter": "python",
   "pygments_lexer": "ipython3",
   "version": "3.7.1"
  }
 },
 "nbformat": 4,
 "nbformat_minor": 2
}
